{
  "nbformat": 4,
  "nbformat_minor": 0,
  "metadata": {
    "colab": {
      "provenance": [],
      "collapsed_sections": []
    },
    "kernelspec": {
      "name": "python3",
      "display_name": "Python 3"
    },
    "language_info": {
      "name": "python"
    }
  },
  "cells": [
    {
      "cell_type": "markdown",
      "source": [
        "#**Lab 1: Apply MP Neuron and perceptron to solve a binary classification problem**"
      ],
      "metadata": {
        "id": "a2vxUnlL0p2d"
      }
    },
    {
      "cell_type": "markdown",
      "source": [
        "## **MP NEURON**"
      ],
      "metadata": {
        "id": "-NzYrcGY0zCk"
      }
    },
    {
      "cell_type": "markdown",
      "source": [
        "## **Boolean AND**"
      ],
      "metadata": {
        "id": "zK8aets1050U"
      }
    },
    {
      "cell_type": "code",
      "execution_count": null,
      "metadata": {
        "colab": {
          "base_uri": "https://localhost:8080/"
        },
        "id": "cs6yCcjI0owK",
        "outputId": "db949296-93ee-495b-f17d-d1adbcc2f544"
      },
      "outputs": [
        {
          "output_type": "stream",
          "name": "stdout",
          "text": [
            "AND(0,0)=0\n",
            "AND(0,1)=0\n",
            "AND(1,0)=0\n",
            "AND(1,1)=1\n"
          ]
        }
      ],
      "source": [
        "\n",
        "import numpy as np\n",
        "\n",
        "theta=0\n",
        "w=1\n",
        "sum=0\n",
        "\n",
        "a=[[0,0,0],\n",
        "   [0,1,0],\n",
        "   [1,0,0],\n",
        "   [1,1,1]]\n",
        "   \n",
        "def threshold(theta,sum):   \n",
        "  if(theta==sum):\n",
        "    return 1\n",
        "  else:\n",
        "    return 0\n",
        "\n",
        "for i in range(len(a)):\n",
        "  sum=0\n",
        "  for j in range(len(a[i])-1):\n",
        "    sum+=a[i][j]*w\n",
        "  print(\"AND({},{})={}\".format(a[i][0],a[i][1],threshold(len(a[i])-1,sum)))"
      ]
    },
    {
      "cell_type": "markdown",
      "source": [
        "##**Boolean OR**\n"
      ],
      "metadata": {
        "id": "lHy1Zf7a1SAU"
      }
    },
    {
      "cell_type": "code",
      "source": [
        "theta=0\n",
        "w=1\n",
        "sum=0\n",
        "\n",
        "a=[[0,0,0],\n",
        "   [0,1,1],\n",
        "   [1,0,1],\n",
        "   [1,1,1]]\n",
        "\n",
        "def threshold(theta,sum):  \n",
        "  if(theta==sum):\n",
        "    return 1\n",
        "  else:\n",
        "    return 0\n",
        "\n",
        "for i in range(len(a)):\n",
        "  sum=0\n",
        "  for j in range(len(a[i])-1):\n",
        "    sum+=a[i][j]*w\n",
        "  print(\"OR({},{})={}\".format(a[i][0],a[i][1],threshold(1,sum)))"
      ],
      "metadata": {
        "colab": {
          "base_uri": "https://localhost:8080/"
        },
        "id": "-od1tW5g1H87",
        "outputId": "fae0d7af-4a0c-4ae0-f9de-02cb424a1a79"
      },
      "execution_count": null,
      "outputs": [
        {
          "output_type": "stream",
          "name": "stdout",
          "text": [
            "OR(0,0)=0\n",
            "OR(0,1)=1\n",
            "OR(1,0)=1\n",
            "OR(1,1)=0\n"
          ]
        }
      ]
    },
    {
      "cell_type": "markdown",
      "source": [
        "#**Perceptron**"
      ],
      "metadata": {
        "id": "bwVSdoVr2Esu"
      }
    },
    {
      "cell_type": "markdown",
      "source": [
        "##**Boolean AND**"
      ],
      "metadata": {
        "id": "Ng3O3XuL2Idm"
      }
    },
    {
      "cell_type": "code",
      "source": [
        "import numpy as np\n",
        "\n",
        "def unit_step(v):\n",
        "\tif v >= 0:\n",
        "\t\treturn 1\n",
        "\telse:\n",
        "\t\treturn 0\n",
        "\t\n",
        "def perceptron(x, w, b):\n",
        "\tv = np.dot(w, x) + b\n",
        "\ty = unit_step(v)\n",
        "\treturn y\n"
      ],
      "metadata": {
        "id": "4R4fgdEG13V6"
      },
      "execution_count": null,
      "outputs": []
    },
    {
      "cell_type": "code",
      "source": [
        "def AND_percep(x):\n",
        "    w = np.array([1, 1])\n",
        "    b = -1.5\n",
        "    return perceptron(x, w, b)\n",
        "\n",
        "# Test\n",
        "example1 = np.array([1, 1])\n",
        "example2 = np.array([1, 0])\n",
        "example3 = np.array([0, 1])\n",
        "example4 = np.array([0, 0])\n",
        "\n",
        "print(\"AND({}, {}) = {}\".format(1, 1, AND_percep(example1)))\n",
        "print(\"AND({}, {}) = {}\".format(1, 0, AND_percep(example2)))\n",
        "print(\"AND({}, {}) = {}\".format(0, 1, AND_percep(example3)))\n",
        "print(\"AND({}, {}) = {}\".format(0, 0, AND_percep(example4)))"
      ],
      "metadata": {
        "colab": {
          "base_uri": "https://localhost:8080/"
        },
        "id": "_DH_dR3e2Qbz",
        "outputId": "b3092495-ad55-4592-f6de-1792ed589af6"
      },
      "execution_count": null,
      "outputs": [
        {
          "output_type": "stream",
          "name": "stdout",
          "text": [
            "AND(1, 1) = 1\n",
            "AND(1, 0) = 0\n",
            "AND(0, 1) = 0\n",
            "AND(0, 0) = 0\n"
          ]
        }
      ]
    },
    {
      "cell_type": "markdown",
      "source": [
        "##**Boolean OR**"
      ],
      "metadata": {
        "id": "E4aaJ2e72cSA"
      }
    },
    {
      "cell_type": "code",
      "source": [
        "def OR_percep(x):\n",
        "    w = np.array([1, 1])\n",
        "    b = -0.5\n",
        "    return perceptron(x, w, b)\n",
        "\n",
        "# Test\n",
        "example1 = np.array([1, 1])\n",
        "example2 = np.array([1, 0])\n",
        "example3 = np.array([0, 1])\n",
        "example4 = np.array([0, 0])\n",
        "\n",
        "print(\"OR({}, {}) = {}\".format(1, 1, OR_percep(example1)))\n",
        "print(\"OR({}, {}) = {}\".format(1, 0, OR_percep(example2)))\n",
        "print(\"OR({}, {}) = {}\".format(0, 1, OR_percep(example3)))\n",
        "print(\"OR({}, {}) = {}\".format(0, 0, OR_percep(example4)))"
      ],
      "metadata": {
        "colab": {
          "base_uri": "https://localhost:8080/"
        },
        "id": "JXTLmzf12XLG",
        "outputId": "89a1953f-39ab-42c1-8297-bcc60e743e7b"
      },
      "execution_count": null,
      "outputs": [
        {
          "output_type": "stream",
          "name": "stdout",
          "text": [
            "OR(1, 1) = 1\n",
            "OR(1, 0) = 1\n",
            "OR(0, 1) = 1\n",
            "OR(0, 0) = 0\n"
          ]
        }
      ]
    },
    {
      "cell_type": "markdown",
      "source": [
        "##**Boolean NOT**"
      ],
      "metadata": {
        "id": "Ay_9_oJn2fpn"
      }
    },
    {
      "cell_type": "code",
      "source": [
        "def NOT_percep(x):\n",
        "\treturn perceptron(x, w=-1, b=0.5)\n",
        "\n",
        "print(\"NOT(0) = {}\".format(NOT_percep(0)))\n",
        "print(\"NOT(1) = {}\".format(NOT_percep(1)))"
      ],
      "metadata": {
        "colab": {
          "base_uri": "https://localhost:8080/"
        },
        "id": "xW7dsErM2egl",
        "outputId": "76e0224a-e059-47ce-ab68-0025c6175754"
      },
      "execution_count": null,
      "outputs": [
        {
          "output_type": "stream",
          "name": "stdout",
          "text": [
            "NOT(0) = 1\n",
            "NOT(1) = 0\n"
          ]
        }
      ]
    }
  ]
}