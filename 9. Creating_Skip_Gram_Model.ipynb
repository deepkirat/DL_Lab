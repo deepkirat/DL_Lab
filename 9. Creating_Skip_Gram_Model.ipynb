{
  "nbformat": 4,
  "nbformat_minor": 0,
  "metadata": {
    "colab": {
      "provenance": [],
      "collapsed_sections": []
    },
    "kernelspec": {
      "name": "python3",
      "display_name": "Python 3"
    },
    "language_info": {
      "name": "python"
    }
  },
  "cells": [
    {
      "cell_type": "code",
      "execution_count": null,
      "metadata": {
        "id": "WXfDaE-86UUy"
      },
      "outputs": [],
      "source": [
        "from nltk.corpus import gutenberg # to get bible corpus\n",
        "from string import punctuation # to remove punctuation from corpus\n",
        "import nltk \n",
        "import re\n",
        "import numpy as np\n",
        "\n",
        "from keras.preprocessing import text\n",
        "from keras.preprocessing.sequence import skipgrams \n",
        "from keras.layers import *\n",
        "from keras.layers.core import Dense, Reshape\n",
        "from keras.layers import Embedding\n",
        "from keras.models import Model,Sequential"
      ]
    },
    {
      "cell_type": "code",
      "source": [
        "nltk.download('gutenberg')\n",
        "nltk.download('punkt')\n",
        "nltk.download('stopwords')\n",
        "\n",
        "stop_words = nltk.corpus.stopwords.words('english')"
      ],
      "metadata": {
        "colab": {
          "base_uri": "https://localhost:8080/"
        },
        "id": "1-yxdS3E6bjc",
        "outputId": "d5cdab73-99f3-4cdd-90af-5dd4ceb95c22"
      },
      "execution_count": null,
      "outputs": [
        {
          "output_type": "stream",
          "name": "stderr",
          "text": [
            "[nltk_data] Downloading package gutenberg to /root/nltk_data...\n",
            "[nltk_data]   Package gutenberg is already up-to-date!\n",
            "[nltk_data] Downloading package punkt to /root/nltk_data...\n",
            "[nltk_data]   Package punkt is already up-to-date!\n",
            "[nltk_data] Downloading package stopwords to /root/nltk_data...\n",
            "[nltk_data]   Package stopwords is already up-to-date!\n"
          ]
        }
      ]
    },
    {
      "cell_type": "code",
      "source": [
        "bible = gutenberg.sents(\"bible-kjv.txt\")\n",
        "remove_terms = punctuation + '0123456789'"
      ],
      "metadata": {
        "id": "443oMHWS6d_9"
      },
      "execution_count": null,
      "outputs": []
    },
    {
      "cell_type": "code",
      "source": [
        "wpt = nltk.WordPunctTokenizer()\n",
        "\n",
        "def normalize_document(doc):\n",
        "    # lower case and remove special characters\\whitespaces\n",
        "    doc = re.sub(r'[^a-zA-Z\\s]', '', doc,re.I|re.A)\n",
        "    doc = doc.lower()\n",
        "    doc = doc.strip()\n",
        "    # tokenize document\n",
        "    tokens = wpt.tokenize(doc)\n",
        "    # filter stopwords out of document\n",
        "    filtered_tokens = [token for token in tokens if token not in stop_words]\n",
        "    # re-create document from filtered tokens\n",
        "    doc = ' '.join(filtered_tokens)\n",
        "    return doc\n",
        "\n",
        "normalize_corpus = np.vectorize(normalize_document)"
      ],
      "metadata": {
        "id": "Z9H_ZVT66kpW"
      },
      "execution_count": null,
      "outputs": []
    },
    {
      "cell_type": "code",
      "source": [
        "norm_bible = [[word.lower() for word in sent if word not in remove_terms] for sent in bible]\n",
        "norm_bible = [' '.join(tok_sent) for tok_sent in norm_bible]\n",
        "norm_bible = filter(None, normalize_corpus(norm_bible))\n",
        "norm_bible = [tok_sent for tok_sent in norm_bible if len(tok_sent.split()) > 2]"
      ],
      "metadata": {
        "id": "Cvh3W-Ks6m-s"
      },
      "execution_count": null,
      "outputs": []
    },
    {
      "cell_type": "code",
      "metadata": {
        "colab": {
          "base_uri": "https://localhost:8080/"
        },
        "id": "nvP43P_m511a",
        "outputId": "b3876fb7-1191-4d02-97fe-5dff17b86c51"
      },
      "source": [
        "tokenizer = text.Tokenizer()\n",
        "tokenizer.fit_on_texts(norm_bible)\n",
        "\n",
        "word2id = tokenizer.word_index\n",
        "id2word = {v:k for k, v in word2id.items()}\n",
        "\n",
        "vocab_size = len(word2id) + 1 \n",
        "\n",
        "\n",
        "wids = [[word2id[w] for w in text.text_to_word_sequence(doc)] for doc in norm_bible]\n",
        "print('Vocabulary Size:', vocab_size)\n",
        "print('Vocabulary Sample:', list(word2id.items())[:5])"
      ],
      "execution_count": null,
      "outputs": [
        {
          "output_type": "stream",
          "name": "stdout",
          "text": [
            "Vocabulary Size: 12425\n",
            "Vocabulary Sample: [('shall', 1), ('unto', 2), ('lord', 3), ('thou', 4), ('thy', 5)]\n"
          ]
        }
      ]
    },
    {
      "cell_type": "code",
      "source": [
        "# generate skip-grams\n",
        "skip_grams = [skipgrams(wid, vocabulary_size=vocab_size, window_size=10) for wid in wids]\n",
        "\n",
        "# view sample skip-grams\n",
        "pairs, labels = skip_grams[0][0], skip_grams[0][1]\n",
        "for i in range(10):\n",
        "    print(\"({:s} ({:d}), {:s} ({:d})) -> {:d}\".format(\n",
        "          id2word[pairs[i][0]], pairs[i][0], \n",
        "          id2word[pairs[i][1]], pairs[i][1], \n",
        "          labels[i]))"
      ],
      "metadata": {
        "id": "ZqXqapF26sPE",
        "colab": {
          "base_uri": "https://localhost:8080/"
        },
        "outputId": "1090f84d-9437-4d30-b216-7f0c86532a8c"
      },
      "execution_count": null,
      "outputs": [
        {
          "output_type": "stream",
          "name": "stdout",
          "text": [
            "(king (13), abilene (11494)) -> 0\n",
            "(james (1154), betwixt (2454)) -> 0\n",
            "(james (1154), hoods (10733)) -> 0\n",
            "(bible (5766), seas (1827)) -> 0\n",
            "(james (1154), king (13)) -> 1\n",
            "(bible (5766), shimronites (8841)) -> 0\n",
            "(bible (5766), king (13)) -> 1\n",
            "(bible (5766), james (1154)) -> 1\n",
            "(king (13), bible (5766)) -> 1\n",
            "(james (1154), bible (5766)) -> 1\n"
          ]
        }
      ]
    },
    {
      "cell_type": "code",
      "source": [
        "# build skip-gram architecture\n",
        "embed_size = 100\n",
        "word_model = Sequential()\n",
        "word_model.add(Embedding(vocab_size, embed_size,\n",
        "                         embeddings_initializer=\"glorot_uniform\",\n",
        "                         input_length=1))\n",
        "word_model.add(Reshape((embed_size, )))\n",
        "\n",
        "context_model = Sequential()\n",
        "context_model.add(Embedding(vocab_size, embed_size,\n",
        "                  embeddings_initializer=\"glorot_uniform\",\n",
        "                  input_length=1))\n",
        "context_model.add(Reshape((embed_size,)))\n",
        "\n",
        "merged_output = add([word_model.output, context_model.output])  \n",
        "\n",
        "model_combined = Sequential()\n",
        "model_combined.add(Dense(1, kernel_initializer=\"glorot_uniform\", activation=\"sigmoid\"))\n",
        "\n",
        "final_model = Model([word_model.input, context_model.input], model_combined(merged_output))\n",
        "final_model.compile(loss=\"mean_squared_error\", optimizer=\"rmsprop\")\n",
        "\n",
        "final_model.summary()"
      ],
      "metadata": {
        "colab": {
          "base_uri": "https://localhost:8080/"
        },
        "id": "4jv7jLTZG-oM",
        "outputId": "8e4b6165-16bc-4c63-f60f-986be9f9b3b5"
      },
      "execution_count": null,
      "outputs": [
        {
          "output_type": "stream",
          "name": "stdout",
          "text": [
            "Model: \"model\"\n",
            "__________________________________________________________________________________________________\n",
            " Layer (type)                   Output Shape         Param #     Connected to                     \n",
            "==================================================================================================\n",
            " embedding_input (InputLayer)   [(None, 1)]          0           []                               \n",
            "                                                                                                  \n",
            " embedding_1_input (InputLayer)  [(None, 1)]         0           []                               \n",
            "                                                                                                  \n",
            " embedding (Embedding)          (None, 1, 100)       1242500     ['embedding_input[0][0]']        \n",
            "                                                                                                  \n",
            " embedding_1 (Embedding)        (None, 1, 100)       1242500     ['embedding_1_input[0][0]']      \n",
            "                                                                                                  \n",
            " reshape (Reshape)              (None, 100)          0           ['embedding[0][0]']              \n",
            "                                                                                                  \n",
            " reshape_1 (Reshape)            (None, 100)          0           ['embedding_1[0][0]']            \n",
            "                                                                                                  \n",
            " add (Add)                      (None, 100)          0           ['reshape[0][0]',                \n",
            "                                                                  'reshape_1[0][0]']              \n",
            "                                                                                                  \n",
            " sequential_2 (Sequential)      (None, 1)            101         ['add[0][0]']                    \n",
            "                                                                                                  \n",
            "==================================================================================================\n",
            "Total params: 2,485,101\n",
            "Trainable params: 2,485,101\n",
            "Non-trainable params: 0\n",
            "__________________________________________________________________________________________________\n"
          ]
        }
      ]
    },
    {
      "cell_type": "code",
      "source": [
        "# visualize model structure\n",
        "from IPython.display import SVG\n",
        "from keras.utils.vis_utils import model_to_dot\n",
        "\n",
        "SVG(model_to_dot(final_model, show_shapes=True, show_layer_names=False, \n",
        "                 rankdir='TB').create(prog='dot', format='svg'))"
      ],
      "metadata": {
        "colab": {
          "base_uri": "https://localhost:8080/",
          "height": 709
        },
        "id": "Cou1C_v5HDo_",
        "outputId": "480dd367-c231-495b-ee80-d934a86bdc68"
      },
      "execution_count": null,
      "outputs": [
        {
          "output_type": "execute_result",
          "data": {
            "text/plain": [
              "<IPython.core.display.SVG object>"
            ],
            "image/svg+xml": "<svg height=\"516pt\" viewBox=\"0.00 0.00 514.00 387.00\" width=\"685pt\" xmlns=\"http://www.w3.org/2000/svg\" xmlns:xlink=\"http://www.w3.org/1999/xlink\">\n<g class=\"graph\" id=\"graph0\" transform=\"scale(1.3333 1.3333) rotate(0) translate(4 383)\">\n<title>G</title>\n<polygon fill=\"#ffffff\" points=\"-4,4 -4,-383 510,-383 510,4 -4,4\" stroke=\"transparent\"/>\n<!-- 140207270050448 -->\n<g class=\"node\" id=\"node1\">\n<title>140207270050448</title>\n<polygon fill=\"none\" points=\"12.5,-332.5 12.5,-378.5 231.5,-378.5 231.5,-332.5 12.5,-332.5\" stroke=\"#000000\"/>\n<text fill=\"#000000\" font-family=\"Times,serif\" font-size=\"14.00\" text-anchor=\"middle\" x=\"52.5\" y=\"-351.8\">InputLayer</text>\n<polyline fill=\"none\" points=\"92.5,-332.5 92.5,-378.5 \" stroke=\"#000000\"/>\n<text fill=\"#000000\" font-family=\"Times,serif\" font-size=\"14.00\" text-anchor=\"middle\" x=\"121.5\" y=\"-363.3\">input:</text>\n<polyline fill=\"none\" points=\"92.5,-355.5 150.5,-355.5 \" stroke=\"#000000\"/>\n<text fill=\"#000000\" font-family=\"Times,serif\" font-size=\"14.00\" text-anchor=\"middle\" x=\"121.5\" y=\"-340.3\">output:</text>\n<polyline fill=\"none\" points=\"150.5,-332.5 150.5,-378.5 \" stroke=\"#000000\"/>\n<text fill=\"#000000\" font-family=\"Times,serif\" font-size=\"14.00\" text-anchor=\"middle\" x=\"191\" y=\"-363.3\">[(None, 1)]</text>\n<polyline fill=\"none\" points=\"150.5,-355.5 231.5,-355.5 \" stroke=\"#000000\"/>\n<text fill=\"#000000\" font-family=\"Times,serif\" font-size=\"14.00\" text-anchor=\"middle\" x=\"191\" y=\"-340.3\">[(None, 1)]</text>\n</g>\n<!-- 140207249341392 -->\n<g class=\"node\" id=\"node3\">\n<title>140207249341392</title>\n<polygon fill=\"none\" points=\"0,-249.5 0,-295.5 244,-295.5 244,-249.5 0,-249.5\" stroke=\"#000000\"/>\n<text fill=\"#000000\" font-family=\"Times,serif\" font-size=\"14.00\" text-anchor=\"middle\" x=\"42\" y=\"-268.8\">Embedding</text>\n<polyline fill=\"none\" points=\"84,-249.5 84,-295.5 \" stroke=\"#000000\"/>\n<text fill=\"#000000\" font-family=\"Times,serif\" font-size=\"14.00\" text-anchor=\"middle\" x=\"113\" y=\"-280.3\">input:</text>\n<polyline fill=\"none\" points=\"84,-272.5 142,-272.5 \" stroke=\"#000000\"/>\n<text fill=\"#000000\" font-family=\"Times,serif\" font-size=\"14.00\" text-anchor=\"middle\" x=\"113\" y=\"-257.3\">output:</text>\n<polyline fill=\"none\" points=\"142,-249.5 142,-295.5 \" stroke=\"#000000\"/>\n<text fill=\"#000000\" font-family=\"Times,serif\" font-size=\"14.00\" text-anchor=\"middle\" x=\"193\" y=\"-280.3\">(None, 1)</text>\n<polyline fill=\"none\" points=\"142,-272.5 244,-272.5 \" stroke=\"#000000\"/>\n<text fill=\"#000000\" font-family=\"Times,serif\" font-size=\"14.00\" text-anchor=\"middle\" x=\"193\" y=\"-257.3\">(None, 1, 100)</text>\n</g>\n<!-- 140207270050448&#45;&gt;140207249341392 -->\n<g class=\"edge\" id=\"edge1\">\n<title>140207270050448-&gt;140207249341392</title>\n<path d=\"M122,-332.3799C122,-324.1745 122,-314.7679 122,-305.8786\" fill=\"none\" stroke=\"#000000\"/>\n<polygon fill=\"#000000\" points=\"125.5001,-305.784 122,-295.784 118.5001,-305.784 125.5001,-305.784\" stroke=\"#000000\"/>\n</g>\n<!-- 140207311179216 -->\n<g class=\"node\" id=\"node2\">\n<title>140207311179216</title>\n<polygon fill=\"none\" points=\"274.5,-332.5 274.5,-378.5 493.5,-378.5 493.5,-332.5 274.5,-332.5\" stroke=\"#000000\"/>\n<text fill=\"#000000\" font-family=\"Times,serif\" font-size=\"14.00\" text-anchor=\"middle\" x=\"314.5\" y=\"-351.8\">InputLayer</text>\n<polyline fill=\"none\" points=\"354.5,-332.5 354.5,-378.5 \" stroke=\"#000000\"/>\n<text fill=\"#000000\" font-family=\"Times,serif\" font-size=\"14.00\" text-anchor=\"middle\" x=\"383.5\" y=\"-363.3\">input:</text>\n<polyline fill=\"none\" points=\"354.5,-355.5 412.5,-355.5 \" stroke=\"#000000\"/>\n<text fill=\"#000000\" font-family=\"Times,serif\" font-size=\"14.00\" text-anchor=\"middle\" x=\"383.5\" y=\"-340.3\">output:</text>\n<polyline fill=\"none\" points=\"412.5,-332.5 412.5,-378.5 \" stroke=\"#000000\"/>\n<text fill=\"#000000\" font-family=\"Times,serif\" font-size=\"14.00\" text-anchor=\"middle\" x=\"453\" y=\"-363.3\">[(None, 1)]</text>\n<polyline fill=\"none\" points=\"412.5,-355.5 493.5,-355.5 \" stroke=\"#000000\"/>\n<text fill=\"#000000\" font-family=\"Times,serif\" font-size=\"14.00\" text-anchor=\"middle\" x=\"453\" y=\"-340.3\">[(None, 1)]</text>\n</g>\n<!-- 140207288378768 -->\n<g class=\"node\" id=\"node4\">\n<title>140207288378768</title>\n<polygon fill=\"none\" points=\"262,-249.5 262,-295.5 506,-295.5 506,-249.5 262,-249.5\" stroke=\"#000000\"/>\n<text fill=\"#000000\" font-family=\"Times,serif\" font-size=\"14.00\" text-anchor=\"middle\" x=\"304\" y=\"-268.8\">Embedding</text>\n<polyline fill=\"none\" points=\"346,-249.5 346,-295.5 \" stroke=\"#000000\"/>\n<text fill=\"#000000\" font-family=\"Times,serif\" font-size=\"14.00\" text-anchor=\"middle\" x=\"375\" y=\"-280.3\">input:</text>\n<polyline fill=\"none\" points=\"346,-272.5 404,-272.5 \" stroke=\"#000000\"/>\n<text fill=\"#000000\" font-family=\"Times,serif\" font-size=\"14.00\" text-anchor=\"middle\" x=\"375\" y=\"-257.3\">output:</text>\n<polyline fill=\"none\" points=\"404,-249.5 404,-295.5 \" stroke=\"#000000\"/>\n<text fill=\"#000000\" font-family=\"Times,serif\" font-size=\"14.00\" text-anchor=\"middle\" x=\"455\" y=\"-280.3\">(None, 1)</text>\n<polyline fill=\"none\" points=\"404,-272.5 506,-272.5 \" stroke=\"#000000\"/>\n<text fill=\"#000000\" font-family=\"Times,serif\" font-size=\"14.00\" text-anchor=\"middle\" x=\"455\" y=\"-257.3\">(None, 1, 100)</text>\n</g>\n<!-- 140207311179216&#45;&gt;140207288378768 -->\n<g class=\"edge\" id=\"edge2\">\n<title>140207311179216-&gt;140207288378768</title>\n<path d=\"M384,-332.3799C384,-324.1745 384,-314.7679 384,-305.8786\" fill=\"none\" stroke=\"#000000\"/>\n<polygon fill=\"#000000\" points=\"387.5001,-305.784 384,-295.784 380.5001,-305.784 387.5001,-305.784\" stroke=\"#000000\"/>\n</g>\n<!-- 140207249338768 -->\n<g class=\"node\" id=\"node5\">\n<title>140207249338768</title>\n<polygon fill=\"none\" points=\"18.5,-166.5 18.5,-212.5 243.5,-212.5 243.5,-166.5 18.5,-166.5\" stroke=\"#000000\"/>\n<text fill=\"#000000\" font-family=\"Times,serif\" font-size=\"14.00\" text-anchor=\"middle\" x=\"51\" y=\"-185.8\">Reshape</text>\n<polyline fill=\"none\" points=\"83.5,-166.5 83.5,-212.5 \" stroke=\"#000000\"/>\n<text fill=\"#000000\" font-family=\"Times,serif\" font-size=\"14.00\" text-anchor=\"middle\" x=\"112.5\" y=\"-197.3\">input:</text>\n<polyline fill=\"none\" points=\"83.5,-189.5 141.5,-189.5 \" stroke=\"#000000\"/>\n<text fill=\"#000000\" font-family=\"Times,serif\" font-size=\"14.00\" text-anchor=\"middle\" x=\"112.5\" y=\"-174.3\">output:</text>\n<polyline fill=\"none\" points=\"141.5,-166.5 141.5,-212.5 \" stroke=\"#000000\"/>\n<text fill=\"#000000\" font-family=\"Times,serif\" font-size=\"14.00\" text-anchor=\"middle\" x=\"192.5\" y=\"-197.3\">(None, 1, 100)</text>\n<polyline fill=\"none\" points=\"141.5,-189.5 243.5,-189.5 \" stroke=\"#000000\"/>\n<text fill=\"#000000\" font-family=\"Times,serif\" font-size=\"14.00\" text-anchor=\"middle\" x=\"192.5\" y=\"-174.3\">(None, 100)</text>\n</g>\n<!-- 140207249341392&#45;&gt;140207249338768 -->\n<g class=\"edge\" id=\"edge3\">\n<title>140207249341392-&gt;140207249338768</title>\n<path d=\"M124.507,-249.3799C125.3967,-241.1745 126.4167,-231.7679 127.3806,-222.8786\" fill=\"none\" stroke=\"#000000\"/>\n<polygon fill=\"#000000\" points=\"130.8767,-223.1031 128.4752,-212.784 123.9175,-222.3484 130.8767,-223.1031\" stroke=\"#000000\"/>\n</g>\n<!-- 140207311177360 -->\n<g class=\"node\" id=\"node6\">\n<title>140207311177360</title>\n<polygon fill=\"none\" points=\"266.5,-166.5 266.5,-212.5 491.5,-212.5 491.5,-166.5 266.5,-166.5\" stroke=\"#000000\"/>\n<text fill=\"#000000\" font-family=\"Times,serif\" font-size=\"14.00\" text-anchor=\"middle\" x=\"299\" y=\"-185.8\">Reshape</text>\n<polyline fill=\"none\" points=\"331.5,-166.5 331.5,-212.5 \" stroke=\"#000000\"/>\n<text fill=\"#000000\" font-family=\"Times,serif\" font-size=\"14.00\" text-anchor=\"middle\" x=\"360.5\" y=\"-197.3\">input:</text>\n<polyline fill=\"none\" points=\"331.5,-189.5 389.5,-189.5 \" stroke=\"#000000\"/>\n<text fill=\"#000000\" font-family=\"Times,serif\" font-size=\"14.00\" text-anchor=\"middle\" x=\"360.5\" y=\"-174.3\">output:</text>\n<polyline fill=\"none\" points=\"389.5,-166.5 389.5,-212.5 \" stroke=\"#000000\"/>\n<text fill=\"#000000\" font-family=\"Times,serif\" font-size=\"14.00\" text-anchor=\"middle\" x=\"440.5\" y=\"-197.3\">(None, 1, 100)</text>\n<polyline fill=\"none\" points=\"389.5,-189.5 491.5,-189.5 \" stroke=\"#000000\"/>\n<text fill=\"#000000\" font-family=\"Times,serif\" font-size=\"14.00\" text-anchor=\"middle\" x=\"440.5\" y=\"-174.3\">(None, 100)</text>\n</g>\n<!-- 140207288378768&#45;&gt;140207311177360 -->\n<g class=\"edge\" id=\"edge4\">\n<title>140207288378768-&gt;140207311177360</title>\n<path d=\"M382.6072,-249.3799C382.1129,-241.1745 381.5463,-231.7679 381.0108,-222.8786\" fill=\"none\" stroke=\"#000000\"/>\n<polygon fill=\"#000000\" points=\"384.4977,-222.5554 380.4027,-212.784 377.5104,-222.9764 384.4977,-222.5554\" stroke=\"#000000\"/>\n</g>\n<!-- 140207239417424 -->\n<g class=\"node\" id=\"node7\">\n<title>140207239417424</title>\n<polygon fill=\"none\" points=\"115,-83.5 115,-129.5 389,-129.5 389,-83.5 115,-83.5\" stroke=\"#000000\"/>\n<text fill=\"#000000\" font-family=\"Times,serif\" font-size=\"14.00\" text-anchor=\"middle\" x=\"136\" y=\"-102.8\">Add</text>\n<polyline fill=\"none\" points=\"157,-83.5 157,-129.5 \" stroke=\"#000000\"/>\n<text fill=\"#000000\" font-family=\"Times,serif\" font-size=\"14.00\" text-anchor=\"middle\" x=\"186\" y=\"-114.3\">input:</text>\n<polyline fill=\"none\" points=\"157,-106.5 215,-106.5 \" stroke=\"#000000\"/>\n<text fill=\"#000000\" font-family=\"Times,serif\" font-size=\"14.00\" text-anchor=\"middle\" x=\"186\" y=\"-91.3\">output:</text>\n<polyline fill=\"none\" points=\"215,-83.5 215,-129.5 \" stroke=\"#000000\"/>\n<text fill=\"#000000\" font-family=\"Times,serif\" font-size=\"14.00\" text-anchor=\"middle\" x=\"302\" y=\"-114.3\">[(None, 100), (None, 100)]</text>\n<polyline fill=\"none\" points=\"215,-106.5 389,-106.5 \" stroke=\"#000000\"/>\n<text fill=\"#000000\" font-family=\"Times,serif\" font-size=\"14.00\" text-anchor=\"middle\" x=\"302\" y=\"-91.3\">(None, 100)</text>\n</g>\n<!-- 140207249338768&#45;&gt;140207239417424 -->\n<g class=\"edge\" id=\"edge5\">\n<title>140207249338768-&gt;140207239417424</title>\n<path d=\"M164.7052,-166.3799C178.6176,-156.8367 194.8988,-145.6686 209.6073,-135.5793\" fill=\"none\" stroke=\"#000000\"/>\n<polygon fill=\"#000000\" points=\"211.7893,-138.3269 218.0558,-129.784 207.8296,-132.5544 211.7893,-138.3269\" stroke=\"#000000\"/>\n</g>\n<!-- 140207311177360&#45;&gt;140207239417424 -->\n<g class=\"edge\" id=\"edge6\">\n<title>140207311177360-&gt;140207239417424</title>\n<path d=\"M343.6234,-166.3799C328.8848,-156.7475 311.613,-145.4597 296.0625,-135.2967\" fill=\"none\" stroke=\"#000000\"/>\n<polygon fill=\"#000000\" points=\"297.913,-132.325 287.6273,-129.784 294.0834,-138.1846 297.913,-132.325\" stroke=\"#000000\"/>\n</g>\n<!-- 140207292372432 -->\n<g class=\"node\" id=\"node8\">\n<title>140207292372432</title>\n<polygon fill=\"none\" points=\"141,-.5 141,-46.5 363,-46.5 363,-.5 141,-.5\" stroke=\"#000000\"/>\n<text fill=\"#000000\" font-family=\"Times,serif\" font-size=\"14.00\" text-anchor=\"middle\" x=\"179.5\" y=\"-19.8\">Sequential</text>\n<polyline fill=\"none\" points=\"218,-.5 218,-46.5 \" stroke=\"#000000\"/>\n<text fill=\"#000000\" font-family=\"Times,serif\" font-size=\"14.00\" text-anchor=\"middle\" x=\"247\" y=\"-31.3\">input:</text>\n<polyline fill=\"none\" points=\"218,-23.5 276,-23.5 \" stroke=\"#000000\"/>\n<text fill=\"#000000\" font-family=\"Times,serif\" font-size=\"14.00\" text-anchor=\"middle\" x=\"247\" y=\"-8.3\">output:</text>\n<polyline fill=\"none\" points=\"276,-.5 276,-46.5 \" stroke=\"#000000\"/>\n<text fill=\"#000000\" font-family=\"Times,serif\" font-size=\"14.00\" text-anchor=\"middle\" x=\"319.5\" y=\"-31.3\">(None, 100)</text>\n<polyline fill=\"none\" points=\"276,-23.5 363,-23.5 \" stroke=\"#000000\"/>\n<text fill=\"#000000\" font-family=\"Times,serif\" font-size=\"14.00\" text-anchor=\"middle\" x=\"319.5\" y=\"-8.3\">(None, 1)</text>\n</g>\n<!-- 140207239417424&#45;&gt;140207292372432 -->\n<g class=\"edge\" id=\"edge7\">\n<title>140207239417424-&gt;140207292372432</title>\n<path d=\"M252,-83.3799C252,-75.1745 252,-65.7679 252,-56.8786\" fill=\"none\" stroke=\"#000000\"/>\n<polygon fill=\"#000000\" points=\"255.5001,-56.784 252,-46.784 248.5001,-56.784 255.5001,-56.784\" stroke=\"#000000\"/>\n</g>\n</g>\n</svg>"
          },
          "metadata": {},
          "execution_count": 24
        }
      ]
    },
    {
      "cell_type": "code",
      "source": [
        "for epoch in range(1, 3):\n",
        "    loss = 0\n",
        "    for i, elem in enumerate(skip_grams):\n",
        "        pair_first_elem = np.array(list(zip(*elem[0]))[0], dtype='int32')\n",
        "        pair_second_elem = np.array(list(zip(*elem[0]))[1], dtype='int32')\n",
        "        labels = np.array(elem[1], dtype='int32')\n",
        "        X = [pair_first_elem, pair_second_elem]\n",
        "        Y = labels\n",
        "        if i % 10000 == 0:\n",
        "            print('Processed {} (skip_first, skip_second, relevance) pairs'.format(i))\n",
        "        loss += final_model.train_on_batch(X,Y)  \n",
        "\n",
        "    print('Epoch:', epoch, 'Loss:', loss)"
      ],
      "metadata": {
        "colab": {
          "base_uri": "https://localhost:8080/"
        },
        "id": "ZOshLIMNHGFX",
        "outputId": "37dba4bb-600f-4093-d4a5-6a012132fecc"
      },
      "execution_count": null,
      "outputs": [
        {
          "output_type": "stream",
          "name": "stdout",
          "text": [
            "Processed 0 (skip_first, skip_second, relevance) pairs\n",
            "Processed 10000 (skip_first, skip_second, relevance) pairs\n",
            "Processed 20000 (skip_first, skip_second, relevance) pairs\n",
            "Epoch: 1 Loss: 3639.9191690885928\n",
            "Processed 0 (skip_first, skip_second, relevance) pairs\n",
            "Processed 10000 (skip_first, skip_second, relevance) pairs\n",
            "Processed 20000 (skip_first, skip_second, relevance) pairs\n",
            "Epoch: 2 Loss: 3196.9829359931173\n"
          ]
        }
      ]
    },
    {
      "cell_type": "code",
      "source": [
        "from sklearn.metrics.pairwise import euclidean_distances\n",
        "word_embed_layer = word_model.layers[0]\n",
        "weights = word_embed_layer.get_weights()[0][1:]\n",
        "\n",
        "distance_matrix = euclidean_distances(weights)\n",
        "print(distance_matrix.shape)\n",
        "\n",
        "similar_words = {search_term: [id2word[idx] for idx in distance_matrix[word2id[search_term]-1].argsort()[1:6]+1] \n",
        "                   for search_term in ['god', 'jesus','egypt', 'john', 'famine']}\n",
        "\n",
        "similar_words"
      ],
      "metadata": {
        "colab": {
          "base_uri": "https://localhost:8080/"
        },
        "id": "R8z8siPSHI1p",
        "outputId": "02bd725b-f208-42a5-af3e-ec3e77ff7c6f"
      },
      "execution_count": null,
      "outputs": [
        {
          "output_type": "stream",
          "name": "stdout",
          "text": [
            "(12424, 12424)\n"
          ]
        },
        {
          "output_type": "execute_result",
          "data": {
            "text/plain": [
              "{'god': ['upon', 'thou', 'cometh', 'days', 'unto'],\n",
              " 'jesus': ['otherwise', 'general', 'informed', 'offended', 'wanting'],\n",
              " 'egypt': ['whether', 'deal', 'fetch', 'none', 'vail'],\n",
              " 'john': ['thessalonians', 'speedy', 'bottomless', 'jeremy', 'capernaum'],\n",
              " 'famine': ['winepress', 'guard', 'deceitfully', 'falleth', 'oblation']}"
            ]
          },
          "metadata": {},
          "execution_count": 26
        }
      ]
    },
    {
      "cell_type": "code",
      "source": [],
      "metadata": {
        "id": "oAUe9aQwLGHN"
      },
      "execution_count": null,
      "outputs": []
    }
  ]
}